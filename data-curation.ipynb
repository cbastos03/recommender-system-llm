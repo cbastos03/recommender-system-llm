{
 "cells": [
  {
   "cell_type": "code",
   "execution_count": 1,
   "id": "26c0fb1e-21f9-453a-afaf-2bc9e14a78b1",
   "metadata": {},
   "outputs": [],
   "source": [
    "import pandas as pd\n",
    "import numpy as np"
   ]
  },
  {
   "cell_type": "markdown",
   "id": "37ba6e33-5237-44d9-a01f-751701d94fd7",
   "metadata": {},
   "source": [
    "This dataset was already used for my master thesis and it is a combination of the Amazon Review dataset and the SerenLens dataset in the Books domain.\n",
    "So in order to compare the results in a fair way I will use the same data."
   ]
  },
  {
   "cell_type": "code",
   "execution_count": 2,
   "id": "85a2ba52-8b7c-4cc7-889e-f60fc6f4471f",
   "metadata": {},
   "outputs": [],
   "source": [
    "train_data = pd.read_csv('../Mestrado/Tese/recommender-system/train_data.csv', dtype={'item_id': str}, sep=';')"
   ]
  },
  {
   "cell_type": "code",
   "execution_count": 3,
   "id": "c4cdbdbc-278e-4cb9-9a67-bd4492e9ed9c",
   "metadata": {},
   "outputs": [
    {
     "data": {
      "text/html": [
       "<div>\n",
       "<style scoped>\n",
       "    .dataframe tbody tr th:only-of-type {\n",
       "        vertical-align: middle;\n",
       "    }\n",
       "\n",
       "    .dataframe tbody tr th {\n",
       "        vertical-align: top;\n",
       "    }\n",
       "\n",
       "    .dataframe thead th {\n",
       "        text-align: right;\n",
       "    }\n",
       "</style>\n",
       "<table border=\"1\" class=\"dataframe\">\n",
       "  <thead>\n",
       "    <tr style=\"text-align: right;\">\n",
       "      <th></th>\n",
       "      <th>user_id</th>\n",
       "      <th>item_id</th>\n",
       "      <th>rating</th>\n",
       "      <th>serendipity</th>\n",
       "    </tr>\n",
       "  </thead>\n",
       "  <tbody>\n",
       "    <tr>\n",
       "      <th>0</th>\n",
       "      <td>a3m174ic0vxos2</td>\n",
       "      <td>399242694</td>\n",
       "      <td>5</td>\n",
       "      <td>0</td>\n",
       "    </tr>\n",
       "    <tr>\n",
       "      <th>1</th>\n",
       "      <td>a2sarntk8o6pl4</td>\n",
       "      <td>1590520858</td>\n",
       "      <td>5</td>\n",
       "      <td>0</td>\n",
       "    </tr>\n",
       "    <tr>\n",
       "      <th>2</th>\n",
       "      <td>a94nrhz4prh39</td>\n",
       "      <td>1489516948</td>\n",
       "      <td>3</td>\n",
       "      <td>0</td>\n",
       "    </tr>\n",
       "    <tr>\n",
       "      <th>3</th>\n",
       "      <td>a1hjzl0wkcotsf</td>\n",
       "      <td>312265859</td>\n",
       "      <td>5</td>\n",
       "      <td>0</td>\n",
       "    </tr>\n",
       "    <tr>\n",
       "      <th>4</th>\n",
       "      <td>a3ag5qat8l0i3r</td>\n",
       "      <td>439833086</td>\n",
       "      <td>4</td>\n",
       "      <td>0</td>\n",
       "    </tr>\n",
       "  </tbody>\n",
       "</table>\n",
       "</div>"
      ],
      "text/plain": [
       "          user_id     item_id  rating  serendipity\n",
       "0  a3m174ic0vxos2   399242694       5            0\n",
       "1  a2sarntk8o6pl4  1590520858       5            0\n",
       "2   a94nrhz4prh39  1489516948       3            0\n",
       "3  a1hjzl0wkcotsf   312265859       5            0\n",
       "4  a3ag5qat8l0i3r   439833086       4            0"
      ]
     },
     "execution_count": 3,
     "metadata": {},
     "output_type": "execute_result"
    }
   ],
   "source": [
    "train_data.head()"
   ]
  },
  {
   "cell_type": "code",
   "execution_count": 4,
   "id": "6650e286-89cd-43d7-9696-fba56946cf4a",
   "metadata": {},
   "outputs": [],
   "source": [
    "train_set = set(zip(train_data['user_id'], train_data['item_id']))"
   ]
  },
  {
   "cell_type": "code",
   "execution_count": 5,
   "id": "593a7eed-97d1-4421-8871-cc16524dfafe",
   "metadata": {},
   "outputs": [
    {
     "data": {
      "text/html": [
       "<div>\n",
       "<style scoped>\n",
       "    .dataframe tbody tr th:only-of-type {\n",
       "        vertical-align: middle;\n",
       "    }\n",
       "\n",
       "    .dataframe tbody tr th {\n",
       "        vertical-align: top;\n",
       "    }\n",
       "\n",
       "    .dataframe thead th {\n",
       "        text-align: right;\n",
       "    }\n",
       "</style>\n",
       "<table border=\"1\" class=\"dataframe\">\n",
       "  <thead>\n",
       "    <tr style=\"text-align: right;\">\n",
       "      <th></th>\n",
       "      <th>user_id</th>\n",
       "      <th>item_id</th>\n",
       "      <th>rating</th>\n",
       "      <th>serendipity</th>\n",
       "    </tr>\n",
       "  </thead>\n",
       "  <tbody>\n",
       "    <tr>\n",
       "      <th>0</th>\n",
       "      <td>a10xn3j1jexltj</td>\n",
       "      <td>385738986</td>\n",
       "      <td>5</td>\n",
       "      <td>0</td>\n",
       "    </tr>\n",
       "    <tr>\n",
       "      <th>1</th>\n",
       "      <td>a1k5lvt31cg1ih</td>\n",
       "      <td>1620610353</td>\n",
       "      <td>3</td>\n",
       "      <td>0</td>\n",
       "    </tr>\n",
       "    <tr>\n",
       "      <th>2</th>\n",
       "      <td>a14i311iiumbwc</td>\n",
       "      <td>1468016776</td>\n",
       "      <td>4</td>\n",
       "      <td>0</td>\n",
       "    </tr>\n",
       "    <tr>\n",
       "      <th>3</th>\n",
       "      <td>a1jg0wy9lwe3bn</td>\n",
       "      <td>1565122550</td>\n",
       "      <td>3</td>\n",
       "      <td>0</td>\n",
       "    </tr>\n",
       "    <tr>\n",
       "      <th>4</th>\n",
       "      <td>a265ne6h6lyx87</td>\n",
       "      <td>727882775</td>\n",
       "      <td>4</td>\n",
       "      <td>0</td>\n",
       "    </tr>\n",
       "  </tbody>\n",
       "</table>\n",
       "</div>"
      ],
      "text/plain": [
       "          user_id     item_id  rating  serendipity\n",
       "0  a10xn3j1jexltj   385738986       5            0\n",
       "1  a1k5lvt31cg1ih  1620610353       3            0\n",
       "2  a14i311iiumbwc  1468016776       4            0\n",
       "3  a1jg0wy9lwe3bn  1565122550       3            0\n",
       "4  a265ne6h6lyx87   727882775       4            0"
      ]
     },
     "execution_count": 5,
     "metadata": {},
     "output_type": "execute_result"
    }
   ],
   "source": [
    "test_data = pd.read_csv('../Mestrado/Tese/recommender-system/test_data.csv', dtype={'item_id': str}, sep=';')\n",
    "test_data.head()"
   ]
  },
  {
   "cell_type": "code",
   "execution_count": 6,
   "id": "c4243ff3-d2cd-430d-a1e4-4edd04c746cd",
   "metadata": {},
   "outputs": [],
   "source": [
    "test_set = set(zip(test_data['user_id'], test_data['item_id']))"
   ]
  },
  {
   "cell_type": "code",
   "execution_count": 7,
   "id": "c8ced99f-0b9a-403c-97c2-0b5d7af72e0c",
   "metadata": {},
   "outputs": [],
   "source": [
    "data = pd.read_csv('../Mestrado/Tese/recommender-system/Data/serenlens_with_features_cleaned_filtered.csv', dtype={'item_id': str}, sep=\";\")"
   ]
  },
  {
   "cell_type": "code",
   "execution_count": 8,
   "id": "bfb05726-f1ba-4208-a937-d751b2398983",
   "metadata": {},
   "outputs": [
    {
     "data": {
      "text/html": [
       "<div>\n",
       "<style scoped>\n",
       "    .dataframe tbody tr th:only-of-type {\n",
       "        vertical-align: middle;\n",
       "    }\n",
       "\n",
       "    .dataframe tbody tr th {\n",
       "        vertical-align: top;\n",
       "    }\n",
       "\n",
       "    .dataframe thead th {\n",
       "        text-align: right;\n",
       "    }\n",
       "</style>\n",
       "<table border=\"1\" class=\"dataframe\">\n",
       "  <thead>\n",
       "    <tr style=\"text-align: right;\">\n",
       "      <th></th>\n",
       "      <th>user_id</th>\n",
       "      <th>item_id</th>\n",
       "      <th>timestamp</th>\n",
       "      <th>rating</th>\n",
       "      <th>serendipity</th>\n",
       "      <th>title</th>\n",
       "      <th>description</th>\n",
       "      <th>features</th>\n",
       "    </tr>\n",
       "  </thead>\n",
       "  <tbody>\n",
       "    <tr>\n",
       "      <th>0</th>\n",
       "      <td>a10f5lmypxqydf</td>\n",
       "      <td>380761319</td>\n",
       "      <td>1140048000</td>\n",
       "      <td>5</td>\n",
       "      <td>0</td>\n",
       "      <td>the shadow and the star</td>\n",
       "      <td>from publishers weekly, kinsale  the prince of...</td>\n",
       "      <td>from nationally acclaimed bestselling author l...</td>\n",
       "    </tr>\n",
       "    <tr>\n",
       "      <th>1</th>\n",
       "      <td>a10f5lmypxqydf</td>\n",
       "      <td>373294395</td>\n",
       "      <td>1173484800</td>\n",
       "      <td>4</td>\n",
       "      <td>0</td>\n",
       "      <td>beau crusoe</td>\n",
       "      <td>about the author, i started writing regencies ...</td>\n",
       "      <td>shipwrecked!stranded alone on a desert island,...</td>\n",
       "    </tr>\n",
       "    <tr>\n",
       "      <th>2</th>\n",
       "      <td>a10f5lmypxqydf</td>\n",
       "      <td>60090383</td>\n",
       "      <td>1176595200</td>\n",
       "      <td>5</td>\n",
       "      <td>1</td>\n",
       "      <td>rachels holiday</td>\n",
       "      <td>about the author, marian keyes is the author o...</td>\n",
       "      <td>the fast lane is much too slow for rachel wals...</td>\n",
       "    </tr>\n",
       "    <tr>\n",
       "      <th>3</th>\n",
       "      <td>a10f5lmypxqydf</td>\n",
       "      <td>60724560</td>\n",
       "      <td>1183852800</td>\n",
       "      <td>3</td>\n",
       "      <td>0</td>\n",
       "      <td>princess on the brink princess diaries, vol. 8</td>\n",
       "      <td>from, booklist, princess mia, now a highschool...</td>\n",
       "      <td>at last, mia is a junior. an upperclassperson....</td>\n",
       "    </tr>\n",
       "    <tr>\n",
       "      <th>4</th>\n",
       "      <td>a10f8dlu94ackp</td>\n",
       "      <td>545123283</td>\n",
       "      <td>1302048000</td>\n",
       "      <td>4</td>\n",
       "      <td>0</td>\n",
       "      <td>linger</td>\n",
       "      <td>amazon.com review, amazon exclusive a qa with ...</td>\n",
       "      <td>in maggie stiefvaters shiver, grace and sam fo...</td>\n",
       "    </tr>\n",
       "  </tbody>\n",
       "</table>\n",
       "</div>"
      ],
      "text/plain": [
       "          user_id    item_id   timestamp  rating  serendipity  \\\n",
       "0  a10f5lmypxqydf  380761319  1140048000       5            0   \n",
       "1  a10f5lmypxqydf  373294395  1173484800       4            0   \n",
       "2  a10f5lmypxqydf   60090383  1176595200       5            1   \n",
       "3  a10f5lmypxqydf   60724560  1183852800       3            0   \n",
       "4  a10f8dlu94ackp  545123283  1302048000       4            0   \n",
       "\n",
       "                                            title  \\\n",
       "0                         the shadow and the star   \n",
       "1                                     beau crusoe   \n",
       "2                                 rachels holiday   \n",
       "3  princess on the brink princess diaries, vol. 8   \n",
       "4                                          linger   \n",
       "\n",
       "                                         description  \\\n",
       "0  from publishers weekly, kinsale  the prince of...   \n",
       "1  about the author, i started writing regencies ...   \n",
       "2  about the author, marian keyes is the author o...   \n",
       "3  from, booklist, princess mia, now a highschool...   \n",
       "4  amazon.com review, amazon exclusive a qa with ...   \n",
       "\n",
       "                                            features  \n",
       "0  from nationally acclaimed bestselling author l...  \n",
       "1  shipwrecked!stranded alone on a desert island,...  \n",
       "2  the fast lane is much too slow for rachel wals...  \n",
       "3  at last, mia is a junior. an upperclassperson....  \n",
       "4  in maggie stiefvaters shiver, grace and sam fo...  "
      ]
     },
     "execution_count": 8,
     "metadata": {},
     "output_type": "execute_result"
    }
   ],
   "source": [
    "data.head()"
   ]
  },
  {
   "cell_type": "code",
   "execution_count": 9,
   "id": "60309ed0-707c-4df1-be55-6c79d712dedd",
   "metadata": {},
   "outputs": [
    {
     "data": {
      "text/plain": [
       "11977"
      ]
     },
     "execution_count": 9,
     "metadata": {},
     "output_type": "execute_result"
    }
   ],
   "source": [
    "len(data)"
   ]
  },
  {
   "cell_type": "code",
   "execution_count": 10,
   "id": "e0f4600f-677f-49aa-9b9e-c934ccf44c57",
   "metadata": {},
   "outputs": [
    {
     "name": "stderr",
     "output_type": "stream",
     "text": [
      "Special tokens have been added in the vocabulary, make sure the associated word embeddings are fine-tuned or trained.\n"
     ]
    },
    {
     "name": "stdout",
     "output_type": "stream",
     "text": [
      "There are 9,514 train items\n",
      "There are 2,378 test items\n"
     ]
    }
   ],
   "source": [
    "from items import Item\n",
    "\n",
    "# Create an Item object for each with a price\n",
    "\n",
    "test_items = []\n",
    "train_items = []\n",
    "for datapoint in data.itertuples(index=False):\n",
    "    try:\n",
    "        item = Item(datapoint)\n",
    "        if item.include:\n",
    "            key = (item.user, item.item)\n",
    "            if key in train_set:\n",
    "                train_items.append(item)\n",
    "            elif key in test_set:\n",
    "                test_items.append(item)\n",
    "            else:\n",
    "                print(f\"Key {key} not found\")\n",
    "    except ValueError as e:\n",
    "        pass\n",
    "\n",
    "print(f\"There are {len(train_items):,} train items\")\n",
    "print(f\"There are {len(test_items):,} test items\")"
   ]
  },
  {
   "cell_type": "code",
   "execution_count": 11,
   "id": "1a3cb5b1-8afe-4338-b525-c0f9b25e0913",
   "metadata": {},
   "outputs": [
    {
     "name": "stdout",
     "output_type": "stream",
     "text": [
      "Determine whether the following book would be considered *serendipitous* for the user a10f8dlu94ackp.\n",
      "\n",
      "stolen\n",
      "from school library journal, grade 9 up while gemma is en route to vietnam from england with her parents, she is drugged and kidnapped from the bangkok airport. she regains full consciousness in a rustic house deep in the australian outback with a man who is going to keep her forever. ty never sexually abuses her, but she is truly a captive. little by little, ty wears down her defenses as gemma realizes that escape is impossible. soon she discovers the stark power and vibrancy of the wilderness and becomes absorbed in it. she also learns that ty has been stalking her for years, devising a crafty plan to steal her away to make her love him which she ultimately believes she does. tys capture, taming, and release of a\n",
      "\n",
      "Is this book serendipitous for the user?\n",
      "Answer (True or False): \n"
     ]
    }
   ],
   "source": [
    "print(test_items[1].test_prompt())"
   ]
  },
  {
   "cell_type": "code",
   "execution_count": 12,
   "id": "fb83b70a-aae3-4c90-8a33-611666e76ba2",
   "metadata": {},
   "outputs": [
    {
     "data": {
      "image/png": "[encoded data removed]",
      "text/plain": [
       "<Figure size 1500x600 with 1 Axes>"
      ]
     },
     "metadata": {},
     "output_type": "display_data"
    }
   ],
   "source": [
    "# Plot the distribution of token counts train\n",
    "import matplotlib.pyplot as plt\n",
    "tokens = [item.token_count for item in train_items]\n",
    "plt.figure(figsize=(15, 6))\n",
    "plt.title(f\"Token counts train: Avg {sum(tokens)/len(tokens):,.1f} and highest {max(tokens):,}\\n\")\n",
    "plt.xlabel('Length (tokens)')\n",
    "plt.ylabel('Count')\n",
    "plt.hist(tokens, rwidth=0.7, color=\"green\", bins=range(0, 300, 10))\n",
    "plt.show()"
   ]
  },
  {
   "cell_type": "code",
   "execution_count": 13,
   "id": "46ed8330-e401-426b-8e9f-b2bebd885f96",
   "metadata": {},
   "outputs": [
    {
     "data": {
      "image/png": "[encoded data removed]",
      "text/plain": [
       "<Figure size 1500x600 with 1 Axes>"
      ]
     },
     "metadata": {},
     "output_type": "display_data"
    }
   ],
   "source": [
    "# Plot the distribution of token counts test\n",
    "import matplotlib.pyplot as plt\n",
    "tokens = [item.token_count for item in test_items]\n",
    "plt.figure(figsize=(15, 6))\n",
    "plt.title(f\"Token counts test: Avg {sum(tokens)/len(tokens):,.1f} and highest {max(tokens):,}\\n\")\n",
    "plt.xlabel('Length (tokens)')\n",
    "plt.ylabel('Count')\n",
    "plt.hist(tokens, rwidth=0.7, color=\"green\", bins=range(0, 300, 10))\n",
    "plt.show()"
   ]
  },
  {
   "cell_type": "code",
   "execution_count": 14,
   "id": "645499a9-41f4-4bee-bc0f-26ca761de1bd",
   "metadata": {},
   "outputs": [
    {
     "data": {
      "image/png": "[encoded data removed]",
      "text/plain": [
       "<Figure size 600x400 with 1 Axes>"
      ]
     },
     "metadata": {},
     "output_type": "display_data"
    }
   ],
   "source": [
    "# Plot the distribution of serendipity\n",
    "import matplotlib.pyplot as plt\n",
    "from collections import Counter\n",
    "serendipity_values = [item.serendipity for item in train_items]\n",
    "count = Counter(serendipity_values)\n",
    "labels = [False, True]\n",
    "values = [count[False], count[True]]\n",
    "\n",
    "plt.figure(figsize=(6, 4))\n",
    "plt.bar(labels, values, color=[\"gray\", \"purple\"], width=0.5)\n",
    "plt.xticks([False, True], ['False', 'True'])\n",
    "plt.xlabel(\"Serendipity\")\n",
    "plt.ylabel(\"Count\")\n",
    "plt.title(\"Serendipity Distribution Train\")\n",
    "plt.show()"
   ]
  },
  {
   "cell_type": "code",
   "execution_count": 15,
   "id": "45ea39ca-bc78-410e-b91a-bbc9bd6d6732",
   "metadata": {},
   "outputs": [
    {
     "data": {
      "image/png": "[encoded data removed]",
      "text/plain": [
       "<Figure size 600x400 with 1 Axes>"
      ]
     },
     "metadata": {},
     "output_type": "display_data"
    }
   ],
   "source": [
    "# Plot the distribution of serendipity\n",
    "import matplotlib.pyplot as plt\n",
    "from collections import Counter\n",
    "serendipity_values = [item.serendipity for item in test_items]\n",
    "count = Counter(serendipity_values)\n",
    "labels = [False, True]\n",
    "values = [count[False], count[True]]\n",
    "\n",
    "plt.figure(figsize=(6, 4))\n",
    "plt.bar(labels, values, color=[\"gray\", \"purple\"], width=0.5)\n",
    "plt.xticks([False, True], ['False', 'True'])\n",
    "plt.xlabel(\"Serendipity\")\n",
    "plt.ylabel(\"Count\")\n",
    "plt.title(\"Serendipity Distribution Test\")\n",
    "plt.show()"
   ]
  },
  {
   "cell_type": "code",
   "execution_count": 17,
   "id": "5fd913ea-09e2-43b4-8ed2-a724ae04656d",
   "metadata": {},
   "outputs": [],
   "source": [
    "train_prompts = [item.prompt for item in train_items]\n",
    "train_serendipity = [item.serendipity for item in train_items]\n",
    "test_prompts = [item.test_prompt() for item in test_items]\n",
    "test_serendipity = [item.serendipity for item in test_items]"
   ]
  },
  {
   "cell_type": "code",
   "execution_count": 19,
   "id": "e0da2926-6c3d-48a0-afa3-5799d37825f0",
   "metadata": {},
   "outputs": [],
   "source": [
    "# Create a Dataset from the lists\n",
    "from datasets import load_dataset, Dataset, DatasetDict\n",
    "train_dataset = Dataset.from_dict({\"text\": train_prompts, \"serendipity\": train_serendipity})\n",
    "test_dataset = Dataset.from_dict({\"text\": test_prompts, \"serendipity\": test_serendipity})\n",
    "dataset = DatasetDict({\n",
    "    \"train\": train_dataset,\n",
    "    \"test\": test_dataset\n",
    "})"
   ]
  },
  {
   "cell_type": "code",
   "execution_count": 22,
   "id": "eb6bae0c-78ac-489a-90cf-733f75e2017b",
   "metadata": {},
   "outputs": [
    {
     "name": "stdout",
     "output_type": "stream",
     "text": [
      "Token is valid (permission: write).\n",
      "Your token has been saved in your configured git credential helpers (manager).\n",
      "Your token has been saved to C:\\Users\\carol\\.cache\\huggingface\\token\n",
      "Login successful\n"
     ]
    },
    {
     "data": {
      "application/vnd.jupyter.widget-view+json": {
       "model_id": "45fcf0df7d8c48b18cc74b5a162cc70c",
       "version_major": 2,
       "version_minor": 0
      },
      "text/plain": [
       "Uploading the dataset shards:   0%|          | 0/1 [00:00<?, ?it/s]"
      ]
     },
     "metadata": {},
     "output_type": "display_data"
    },
    {
     "data": {
      "application/vnd.jupyter.widget-view+json": {
       "model_id": "7daec03523ce445eba2bf0b60bc2987b",
       "version_major": 2,
       "version_minor": 0
      },
      "text/plain": [
       "Creating parquet from Arrow format:   0%|          | 0/10 [00:00<?, ?ba/s]"
      ]
     },
     "metadata": {},
     "output_type": "display_data"
    },
    {
     "data": {
      "application/vnd.jupyter.widget-view+json": {
       "model_id": "b379b7d59a6a4ab29799a095653268b1",
       "version_major": 2,
       "version_minor": 0
      },
      "text/plain": [
       "Uploading the dataset shards:   0%|          | 0/1 [00:00<?, ?it/s]"
      ]
     },
     "metadata": {},
     "output_type": "display_data"
    },
    {
     "data": {
      "application/vnd.jupyter.widget-view+json": {
       "model_id": "7c3f64308d704e2e8329ffaf92aeafdd",
       "version_major": 2,
       "version_minor": 0
      },
      "text/plain": [
       "Creating parquet from Arrow format:   0%|          | 0/3 [00:00<?, ?ba/s]"
      ]
     },
     "metadata": {},
     "output_type": "display_data"
    },
    {
     "data": {
      "text/plain": [
       "CommitInfo(commit_url='https://huggingface.co/datasets/caroline-bastos03/serendipity-data/commit/a87f4d504db6e0a0c3f4726b45fa6608c903377d', commit_message='Upload dataset', commit_description='', oid='a87f4d504db6e0a0c3f4726b45fa6608c903377d', pr_url=None, pr_revision=None, pr_num=None)"
      ]
     },
     "execution_count": 22,
     "metadata": {},
     "output_type": "execute_result"
    }
   ],
   "source": [
    "# Log in to HuggingFace\n",
    "# environment\n",
    "from dotenv import load_dotenv\n",
    "from huggingface_hub import login\n",
    "import os\n",
    "\n",
    "load_dotenv()\n",
    "os.environ['HF_TOKEN'] = os.getenv('HF_TOKEN', 'your-key-if-not-using-env')\n",
    "hf_token = os.environ['HF_TOKEN']\n",
    "login(hf_token, add_to_git_credential=True)\n",
    "\n",
    "\n",
    "HF_USER = \"caroline-bastos03\"\n",
    "DATASET_NAME = f\"{HF_USER}/serendipity-data\"\n",
    "dataset.push_to_hub(DATASET_NAME, private=False)"
   ]
  },
  {
   "cell_type": "code",
   "execution_count": 24,
   "id": "ab66d73d-656d-48b2-8924-2dc1a5a12468",
   "metadata": {},
   "outputs": [],
   "source": [
    "import pickle\n",
    "\n",
    "with open('train.pkl', 'wb') as file:\n",
    "    pickle.dump(train_items, file)\n",
    "\n",
    "with open('test.pkl', 'wb') as file:\n",
    "    pickle.dump(test_items, file)"
   ]
  },
  {
   "cell_type": "code",
   "execution_count": null,
   "id": "9560cab1-5fca-47f7-812f-6d1461cdc1c8",
   "metadata": {},
   "outputs": [],
   "source": []
  }
 ],
 "metadata": {
  "kernelspec": {
   "display_name": "Python 3 (ipykernel)",
   "language": "python",
   "name": "python3"
  },
  "language_info": {
   "codemirror_mode": {
    "name": "ipython",
    "version": 3
   },
   "file_extension": ".py",
   "mimetype": "text/x-python",
   "name": "python",
   "nbconvert_exporter": "python",
   "pygments_lexer": "ipython3",
   "version": "3.11.10"
  }
 },
 "nbformat": 4,
 "nbformat_minor": 5
}
